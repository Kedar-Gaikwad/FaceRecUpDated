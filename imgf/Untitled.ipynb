{
 "cells": [
  {
   "cell_type": "code",
   "execution_count": 1,
   "id": "fc264914",
   "metadata": {},
   "outputs": [],
   "source": [
    "import cv2\n",
    "import face_recognition"
   ]
  },
  {
   "cell_type": "code",
   "execution_count": 25,
   "id": "1de3b87e",
   "metadata": {},
   "outputs": [
    {
     "data": {
      "text/plain": [
       "array([[[188, 189, 184],\n",
       "        [188, 189, 184],\n",
       "        [188, 189, 184],\n",
       "        ...,\n",
       "        [181, 182, 176],\n",
       "        [180, 181, 175],\n",
       "        [180, 181, 175]],\n",
       "\n",
       "       [[188, 189, 184],\n",
       "        [188, 189, 184],\n",
       "        [188, 189, 184],\n",
       "        ...,\n",
       "        [180, 181, 175],\n",
       "        [180, 181, 175],\n",
       "        [180, 181, 175]],\n",
       "\n",
       "       [[188, 189, 184],\n",
       "        [188, 189, 184],\n",
       "        [188, 189, 184],\n",
       "        ...,\n",
       "        [180, 181, 175],\n",
       "        [180, 181, 175],\n",
       "        [180, 181, 175]],\n",
       "\n",
       "       ...,\n",
       "\n",
       "       [[ 18,  18,  26],\n",
       "        [ 16,  16,  24],\n",
       "        [ 14,  17,  24],\n",
       "        ...,\n",
       "        [ 21,  21,  33],\n",
       "        [ 21,  23,  35],\n",
       "        [ 24,  26,  39]],\n",
       "\n",
       "       [[ 18,  18,  28],\n",
       "        [ 17,  17,  27],\n",
       "        [ 18,  18,  28],\n",
       "        ...,\n",
       "        [ 19,  19,  31],\n",
       "        [ 22,  22,  34],\n",
       "        [ 21,  23,  36]],\n",
       "\n",
       "       [[ 22,  22,  32],\n",
       "        [ 20,  20,  30],\n",
       "        [ 21,  21,  31],\n",
       "        ...,\n",
       "        [ 18,  18,  30],\n",
       "        [ 22,  22,  34],\n",
       "        [ 23,  23,  35]]], dtype=uint8)"
      ]
     },
     "execution_count": 25,
     "metadata": {},
     "output_type": "execute_result"
    }
   ],
   "source": [
    "imgelon=face_recognition.load_image_file('Elon.jpg')\n",
    "#imgelon=cv2.cvtColor(imgelon,cv2.COLOR_BGR2RGB)\n",
    "imgelon\n",
    "#facloc=face_recognition.face_locations(imgelon)[0]\n",
    "#cv2.rectangle(imgelon,(facloc[3],facloc[0]),(facloc[1],facloc[2]),(250,0,250),2)\n",
    "#cv2.imshow(\"ElonMusk\",imgelon)\n",
    "#cv2.waitKey(0)\n",
    "#encode=face_recognition.face_encodings(imgelon)[0]\n",
    "#encode"
   ]
  },
  {
   "cell_type": "code",
   "execution_count": 7,
   "id": "eab306d6",
   "metadata": {},
   "outputs": [
    {
     "data": {
      "text/plain": [
       "'C:\\\\Users\\\\Kedar\\\\source\\\\repos\\\\FaceRec\\\\FaceRec\\\\imgf'"
      ]
     },
     "execution_count": 7,
     "metadata": {},
     "output_type": "execute_result"
    }
   ],
   "source": []
  },
  {
   "cell_type": "code",
   "execution_count": null,
   "id": "19a9c8dc",
   "metadata": {},
   "outputs": [],
   "source": []
  }
 ],
 "metadata": {
  "kernelspec": {
   "display_name": "Python 3",
   "language": "python",
   "name": "python3"
  },
  "language_info": {
   "codemirror_mode": {
    "name": "ipython",
    "version": 3
   },
   "file_extension": ".py",
   "mimetype": "text/x-python",
   "name": "python",
   "nbconvert_exporter": "python",
   "pygments_lexer": "ipython3",
   "version": "3.8.8"
  }
 },
 "nbformat": 4,
 "nbformat_minor": 5
}
